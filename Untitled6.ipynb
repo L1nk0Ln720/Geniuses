{
  "nbformat": 4,
  "nbformat_minor": 0,
  "metadata": {
    "colab": {
      "provenance": [],
      "authorship_tag": "ABX9TyOwaj4VhYaiqvGtruoqpePw",
      "include_colab_link": true
    },
    "kernelspec": {
      "name": "python3",
      "display_name": "Python 3"
    },
    "language_info": {
      "name": "python"
    }
  },
  "cells": [
    {
      "cell_type": "markdown",
      "metadata": {
        "id": "view-in-github",
        "colab_type": "text"
      },
      "source": [
        "<a href=\"https://colab.research.google.com/github/L1nk0Ln720/Geniuses/blob/main/Untitled6.ipynb\" target=\"_parent\"><img src=\"https://colab.research.google.com/assets/colab-badge.svg\" alt=\"Open In Colab\"/></a>"
      ]
    },
    {
      "cell_type": "code",
      "source": [
        "def is_alternating_sequence(array):\n",
        "    if len(array) < 2:\n",
        "        return False\n",
        "    sign = 1 if array[0] >= 0 else -1\n",
        "    for i in range(1, len(array)):\n",
        "        if (array[i] >= 0 and sign == 1) or (array[i] < 0 and sign == -1):\n",
        "            return False\n",
        "        sign *= -1\n",
        "    return True\n",
        "\n",
        "def find_alternating_sequence(array_list):\n",
        "    result = []\n",
        "    for i in range(len(array_list)):\n",
        "        if is_alternating_sequence(array_list[i]):\n",
        "            result.append(i)\n",
        "    return result\n",
        "\n",
        "# пример использования\n",
        "array1 = [1, -2, 3, -4, 5]\n",
        "array2 = [-1, 2, 3, 4, -5]\n",
        "array3 = [1, -2, 3, -4, 5]\n",
        "array4 = [-1, 2, -3, 4, -5, 6]\n",
        "array5 = [-1, -2, -3, -4, 5]\n",
        "\n",
        "array_list = [array1, array2, array3, array4, array5]\n",
        "\n",
        "result = find_alternating_sequence(array_list)\n",
        "if not result:\n",
        "    print(\"Ни один массив не является знакочередующейся последовательностью\")\n",
        "else:\n",
        "    for i in result:\n",
        "        print(f\"Массив номер {i+1} является знакочередующейся последовательностью\")"
      ],
      "metadata": {
        "id": "f6iIF0jDunhJ"
      },
      "execution_count": null,
      "outputs": []
    }
  ]
}